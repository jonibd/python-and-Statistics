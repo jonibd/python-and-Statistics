{
 "cells": [
  {
   "cell_type": "code",
   "execution_count": 1,
   "id": "c59fe0b7-4010-4242-9d72-9d33fc237c04",
   "metadata": {},
   "outputs": [
    {
     "name": "stdout",
     "output_type": "stream",
     "text": [
      "Error: cannont divided by Zero\n"
     ]
    }
   ],
   "source": [
    "try:\n",
    "    x=10/0\n",
    "    print(\"result\",x)\n",
    "except:\n",
    "    print(\"Error: cannont divided by Zero\")"
   ]
  },
  {
   "cell_type": "code",
   "execution_count": 4,
   "id": "1a2a7a18-5f91-4653-91c0-becd53a99e9f",
   "metadata": {},
   "outputs": [
    {
     "name": "stdout",
     "output_type": "stream",
     "text": [
      "Error: \n"
     ]
    }
   ],
   "source": [
    "try:\n",
    "    x = int(\"Hello\") \n",
    "except ValueError:\n",
    "    print(\"Error: \")\n"
   ]
  },
  {
   "cell_type": "code",
   "execution_count": 7,
   "id": "fd3d8d31-f41d-4c08-94f4-f44a54a2dfc5",
   "metadata": {},
   "outputs": [
    {
     "name": "stdin",
     "output_type": "stream",
     "text": [
      "Enter a number: \"yu\"\n"
     ]
    },
    {
     "ename": "NameError",
     "evalue": "name 'ValuError' is not defined",
     "output_type": "error",
     "traceback": [
      "\u001b[31m---------------------------------------------------------------------------\u001b[39m",
      "\u001b[31mValueError\u001b[39m                                Traceback (most recent call last)",
      "\u001b[36mCell\u001b[39m\u001b[36m \u001b[39m\u001b[32mIn[7]\u001b[39m\u001b[32m, line 2\u001b[39m\n\u001b[32m      1\u001b[39m \u001b[38;5;28;01mtry\u001b[39;00m:\n\u001b[32m----> \u001b[39m\u001b[32m2\u001b[39m     num=\u001b[38;5;28;43mint\u001b[39;49m\u001b[43m(\u001b[49m\u001b[38;5;28;43minput\u001b[39;49m\u001b[43m(\u001b[49m\u001b[33;43m\"\u001b[39;49m\u001b[33;43mEnter a number:\u001b[39;49m\u001b[33;43m\"\u001b[39;49m\u001b[43m)\u001b[49m\u001b[43m)\u001b[49m\n\u001b[32m      3\u001b[39m     result=\u001b[32m10\u001b[39m/num\n",
      "\u001b[31mValueError\u001b[39m: invalid literal for int() with base 10: '\"yu\"'",
      "\nDuring handling of the above exception, another exception occurred:\n",
      "\u001b[31mNameError\u001b[39m                                 Traceback (most recent call last)",
      "\u001b[36mCell\u001b[39m\u001b[36m \u001b[39m\u001b[32mIn[7]\u001b[39m\u001b[32m, line 6\u001b[39m\n\u001b[32m      4\u001b[39m \u001b[38;5;28;01mexcept\u001b[39;00m \u001b[38;5;167;01mZeroDivisionError\u001b[39;00m:\n\u001b[32m      5\u001b[39m     \u001b[38;5;28mprint\u001b[39m(\u001b[33m\"\u001b[39m\u001b[33mError:cannot divide by zero\u001b[39m\u001b[33m\"\u001b[39m)\n\u001b[32m----> \u001b[39m\u001b[32m6\u001b[39m \u001b[38;5;28;01mexcept\u001b[39;00m \u001b[43mValuError\u001b[49m:\n\u001b[32m      7\u001b[39m     \u001b[38;5;28mprint\u001b[39m(\u001b[33m\"\u001b[39m\u001b[33mError:only except number\u001b[39m\u001b[33m\"\u001b[39m)\n",
      "\u001b[31mNameError\u001b[39m: name 'ValuError' is not defined"
     ]
    }
   ],
   "source": [
    "try:\n",
    "    num=int(input(\"Enter a number:\"))\n",
    "    result=10/num\n",
    "except ZeroDivisionError:\n",
    "    print(\"Error:cannot divide by zero\")\n",
    "except ValuError:\n",
    "    print(\"Error:only except number\")\n"
   ]
  },
  {
   "cell_type": "code",
   "execution_count": 8,
   "id": "61ea59a8-d9ab-4fb4-8ae7-235044b456d3",
   "metadata": {},
   "outputs": [
    {
     "name": "stdout",
     "output_type": "stream",
     "text": [
      "Error:file cannot find\n",
      "Finally block \n"
     ]
    }
   ],
   "source": [
    "try:\n",
    "    f=open(\"text.txt\")\n",
    "    print(f.read())\n",
    "except FileNotFoundError:\n",
    "    print(\"Error:file cannot find\")\n",
    "finally:\n",
    "    print(\"Finally block \")"
   ]
  },
  {
   "cell_type": "code",
   "execution_count": 21,
   "id": "d7a469ab-cd09-42ca-8928-bcfd6caf0240",
   "metadata": {},
   "outputs": [],
   "source": [
    "file=open(\"test.txt\",\"w\")\n",
    "file.write(\"Hello,Python!\\n\")\n",
    "file.write(\"This is my first file writing.\")\n",
    "file.close()"
   ]
  },
  {
   "cell_type": "code",
   "execution_count": 22,
   "id": "3fd84556-2f1e-4bd0-8cf2-dfcf948ca0b9",
   "metadata": {},
   "outputs": [
    {
     "data": {
      "text/plain": [
       "<_io.TextIOWrapper name='test.txt' mode='w' encoding='cp1252'>"
      ]
     },
     "execution_count": 22,
     "metadata": {},
     "output_type": "execute_result"
    }
   ],
   "source": [
    "file"
   ]
  },
  {
   "cell_type": "code",
   "execution_count": 23,
   "id": "70e6c924-c3e8-4d94-bff4-f3d0e44d5ca6",
   "metadata": {},
   "outputs": [
    {
     "name": "stdout",
     "output_type": "stream",
     "text": [
      "Hello,Python!\n",
      "This is my first file writing.\n"
     ]
    }
   ],
   "source": [
    "file=open(\"test.txt\",\"r\")\n",
    "data=file.read()\n",
    "print(data)\n",
    "file.close()"
   ]
  },
  {
   "cell_type": "code",
   "execution_count": 24,
   "id": "52ea7b6b-726f-4c49-aa34-ed9d4124d16c",
   "metadata": {},
   "outputs": [
    {
     "name": "stdout",
     "output_type": "stream",
     "text": [
      "line: Hello,Python!\n",
      "line: This is my first file writing.\n"
     ]
    }
   ],
   "source": [
    "file=open(\"test.txt\",\"r\")\n",
    "for line in file:\n",
    "    print(\"line:\",line.strip())\n",
    "file.close()"
   ]
  },
  {
   "cell_type": "code",
   "execution_count": 25,
   "id": "92a75db7-87b5-4352-a48f-f796e3dea662",
   "metadata": {},
   "outputs": [],
   "source": [
    "with open(\"test.txt\",\"a\")as file:\n",
    "    file.write(\"\\nNew line added!\")"
   ]
  },
  {
   "cell_type": "code",
   "execution_count": 26,
   "id": "a3e62e8c-eda8-4d13-acc4-ef408d5fac13",
   "metadata": {},
   "outputs": [],
   "source": [
    "import csv\n",
    "\n",
    "with open(\"data.csv\", \"w\", newline=\"\") as file:\n",
    "    writer = csv.writer(file)\n",
    "    writer.writerow([\"Name\", \"Age\", \"City\"])\n",
    "    writer.writerow([\"Jony\", 25, \"Dhaka\"])\n",
    "    writer.writerow([\"Rafi\", 30, \"Chittagong\"])\n"
   ]
  },
  {
   "cell_type": "code",
   "execution_count": 27,
   "id": "a06a6fa2-7876-4249-b4dd-9ea6679ae375",
   "metadata": {},
   "outputs": [
    {
     "name": "stdout",
     "output_type": "stream",
     "text": [
      "['Name', 'Age', 'City']\n",
      "['Jony', '25', 'Dhaka']\n",
      "['Rafi', '30', 'Chittagong']\n"
     ]
    }
   ],
   "source": [
    "import csv\n",
    "\n",
    "with open(\"data.csv\", \"r\") as file:\n",
    "    reader = csv.reader(file)\n",
    "    for row in reader:\n",
    "        print(row)\n"
   ]
  },
  {
   "cell_type": "code",
   "execution_count": null,
   "id": "52e867ba-fde9-4f03-8d19-0274b0d919fc",
   "metadata": {},
   "outputs": [],
   "source": []
  }
 ],
 "metadata": {
  "kernelspec": {
   "display_name": "Python 3 (ipykernel)",
   "language": "python",
   "name": "python3"
  },
  "language_info": {
   "codemirror_mode": {
    "name": "ipython",
    "version": 3
   },
   "file_extension": ".py",
   "mimetype": "text/x-python",
   "name": "python",
   "nbconvert_exporter": "python",
   "pygments_lexer": "ipython3",
   "version": "3.13.5"
  }
 },
 "nbformat": 4,
 "nbformat_minor": 5
}
