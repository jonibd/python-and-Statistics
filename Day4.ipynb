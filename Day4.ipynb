{
 "cells": [
  {
   "cell_type": "code",
   "execution_count": 1,
   "id": "2570190d-b39e-4974-978b-18f7a0179da8",
   "metadata": {},
   "outputs": [],
   "source": [
    "import numpy as np"
   ]
  },
  {
   "cell_type": "code",
   "execution_count": 2,
   "id": "8f45ae60-3d66-40ea-a20d-0629abacf597",
   "metadata": {},
   "outputs": [],
   "source": [
    "arr=np.array([1,2,3,4,5,6,7,8])"
   ]
  },
  {
   "cell_type": "code",
   "execution_count": 3,
   "id": "530b3b68-2603-4d09-957c-a5f4859d1d16",
   "metadata": {},
   "outputs": [
    {
     "data": {
      "text/plain": [
       "array([1, 2, 3, 4, 5, 6, 7, 8])"
      ]
     },
     "execution_count": 3,
     "metadata": {},
     "output_type": "execute_result"
    }
   ],
   "source": [
    "arr"
   ]
  },
  {
   "cell_type": "code",
   "execution_count": 6,
   "id": "aee07b93-172c-482c-86ca-3c6ee748fe7a",
   "metadata": {},
   "outputs": [
    {
     "data": {
      "text/plain": [
       "array([[1, 2, 3, 4, 5],\n",
       "       [2, 3, 4, 1, 4]])"
      ]
     },
     "execution_count": 6,
     "metadata": {},
     "output_type": "execute_result"
    }
   ],
   "source": [
    "arr2d=np.array([[1,2,3,4,5],[2,3,4,1,4]])\n",
    "arr2d"
   ]
  },
  {
   "cell_type": "code",
   "execution_count": 7,
   "id": "d62faf85-2a95-472c-aaad-a2225284d679",
   "metadata": {},
   "outputs": [
    {
     "data": {
      "text/plain": [
       "array([[ 1,  2,  3,  4],\n",
       "       [ 5,  6,  7,  8],\n",
       "       [ 9, 10, 11, 22]])"
      ]
     },
     "execution_count": 7,
     "metadata": {},
     "output_type": "execute_result"
    }
   ],
   "source": [
    "arr3d=np.array([[1,2,3,4],[5,6,7,8],[9,10,11,22]])\n",
    "arr3d"
   ]
  },
  {
   "cell_type": "code",
   "execution_count": 8,
   "id": "152934f5-18fb-4899-9475-3af61c8d9b06",
   "metadata": {},
   "outputs": [
    {
     "data": {
      "text/plain": [
       "(3, 4)"
      ]
     },
     "execution_count": 8,
     "metadata": {},
     "output_type": "execute_result"
    }
   ],
   "source": [
    "arr3d.shape"
   ]
  },
  {
   "cell_type": "code",
   "execution_count": 9,
   "id": "9c0e16f3-4251-49e5-b85c-dc9ebba45c72",
   "metadata": {},
   "outputs": [
    {
     "data": {
      "text/plain": [
       "2"
      ]
     },
     "execution_count": 9,
     "metadata": {},
     "output_type": "execute_result"
    }
   ],
   "source": [
    "arr3d.ndim"
   ]
  },
  {
   "cell_type": "code",
   "execution_count": 10,
   "id": "51e7a0d7-33eb-4992-a70e-97826804291f",
   "metadata": {},
   "outputs": [
    {
     "data": {
      "text/plain": [
       "2"
      ]
     },
     "execution_count": 10,
     "metadata": {},
     "output_type": "execute_result"
    }
   ],
   "source": [
    "arr2d.ndim"
   ]
  },
  {
   "cell_type": "code",
   "execution_count": 11,
   "id": "8d02554d-9f0d-4d83-9a39-a7c2738772f8",
   "metadata": {},
   "outputs": [
    {
     "data": {
      "text/plain": [
       "10"
      ]
     },
     "execution_count": 11,
     "metadata": {},
     "output_type": "execute_result"
    }
   ],
   "source": [
    "arr2d.size"
   ]
  },
  {
   "cell_type": "code",
   "execution_count": 12,
   "id": "ec994afd-4a63-46d6-b833-845620ed0131",
   "metadata": {},
   "outputs": [
    {
     "data": {
      "text/plain": [
       "12"
      ]
     },
     "execution_count": 12,
     "metadata": {},
     "output_type": "execute_result"
    }
   ],
   "source": [
    "arr3d.size"
   ]
  },
  {
   "cell_type": "code",
   "execution_count": 13,
   "id": "4a634c6d-5066-463e-84f1-95762b18f962",
   "metadata": {},
   "outputs": [
    {
     "data": {
      "text/plain": [
       "(2, 5)"
      ]
     },
     "execution_count": 13,
     "metadata": {},
     "output_type": "execute_result"
    }
   ],
   "source": [
    "arr2d.shape"
   ]
  },
  {
   "cell_type": "code",
   "execution_count": 14,
   "id": "24d0c6d4-d92f-4ae6-8e41-3e46a3189e6f",
   "metadata": {},
   "outputs": [
    {
     "data": {
      "text/plain": [
       "dtype('int64')"
      ]
     },
     "execution_count": 14,
     "metadata": {},
     "output_type": "execute_result"
    }
   ],
   "source": [
    "arr.dtype"
   ]
  },
  {
   "cell_type": "code",
   "execution_count": 15,
   "id": "d77e445d-59df-4693-b14c-c9ec5d23c79d",
   "metadata": {},
   "outputs": [
    {
     "data": {
      "text/plain": [
       "dtype('int64')"
      ]
     },
     "execution_count": 15,
     "metadata": {},
     "output_type": "execute_result"
    }
   ],
   "source": [
    "arr3d.dtype"
   ]
  },
  {
   "cell_type": "code",
   "execution_count": 16,
   "id": "e59c9e6e-6ca1-4eb9-8ac7-665c9113a135",
   "metadata": {},
   "outputs": [],
   "source": [
    "arry=np.array([1,2,3,4,5,6])"
   ]
  },
  {
   "cell_type": "code",
   "execution_count": 17,
   "id": "35a70c44-85a5-451b-9a7d-60765a68df5d",
   "metadata": {},
   "outputs": [
    {
     "data": {
      "text/plain": [
       "array([1, 2, 3, 4, 5, 6])"
      ]
     },
     "execution_count": 17,
     "metadata": {},
     "output_type": "execute_result"
    }
   ],
   "source": [
    "arry"
   ]
  },
  {
   "cell_type": "code",
   "execution_count": 18,
   "id": "52db9d4a-cd4c-4bc0-8058-b8c45942a5b4",
   "metadata": {},
   "outputs": [
    {
     "data": {
      "text/plain": [
       "np.int64(21)"
      ]
     },
     "execution_count": 18,
     "metadata": {},
     "output_type": "execute_result"
    }
   ],
   "source": [
    "arry.sum()"
   ]
  },
  {
   "cell_type": "code",
   "execution_count": 19,
   "id": "e101fe02-47bb-4164-9f6d-a208292315fa",
   "metadata": {},
   "outputs": [
    {
     "data": {
      "text/plain": [
       "np.float64(3.5)"
      ]
     },
     "execution_count": 19,
     "metadata": {},
     "output_type": "execute_result"
    }
   ],
   "source": [
    "arry.mean()"
   ]
  },
  {
   "cell_type": "code",
   "execution_count": 23,
   "id": "533e6693-6d5e-43b3-8d9f-d6981e5e008a",
   "metadata": {},
   "outputs": [
    {
     "data": {
      "text/plain": [
       "np.int64(1)"
      ]
     },
     "execution_count": 23,
     "metadata": {},
     "output_type": "execute_result"
    }
   ],
   "source": [
    "arry.min()"
   ]
  },
  {
   "cell_type": "code",
   "execution_count": 24,
   "id": "45ff1c21-c7ad-4312-86a7-1ccb4b3204cc",
   "metadata": {},
   "outputs": [
    {
     "data": {
      "text/plain": [
       "np.int64(6)"
      ]
     },
     "execution_count": 24,
     "metadata": {},
     "output_type": "execute_result"
    }
   ],
   "source": [
    "arry.max()"
   ]
  },
  {
   "cell_type": "code",
   "execution_count": 25,
   "id": "fb7bfdae-2f2a-4f26-9c00-7ceb05463ddd",
   "metadata": {},
   "outputs": [],
   "source": [
    "arry2d=np.array([[1,2,3,4],[5,6,7,8]])"
   ]
  },
  {
   "cell_type": "code",
   "execution_count": 26,
   "id": "7b37ce2e-7208-424b-8325-66164ab38002",
   "metadata": {},
   "outputs": [
    {
     "data": {
      "text/plain": [
       "array([[1, 2, 3, 4],\n",
       "       [5, 6, 7, 8]])"
      ]
     },
     "execution_count": 26,
     "metadata": {},
     "output_type": "execute_result"
    }
   ],
   "source": [
    "arry2d"
   ]
  },
  {
   "cell_type": "code",
   "execution_count": 27,
   "id": "4821af69-19d4-47a8-9f6f-b8def4ebe0a2",
   "metadata": {},
   "outputs": [
    {
     "data": {
      "text/plain": [
       "np.int64(36)"
      ]
     },
     "execution_count": 27,
     "metadata": {},
     "output_type": "execute_result"
    }
   ],
   "source": [
    "arry2d.sum()"
   ]
  },
  {
   "cell_type": "code",
   "execution_count": 28,
   "id": "3f271451-59a8-4c7c-ad7a-e0f0f9400968",
   "metadata": {},
   "outputs": [
    {
     "data": {
      "text/plain": [
       "np.float64(4.5)"
      ]
     },
     "execution_count": 28,
     "metadata": {},
     "output_type": "execute_result"
    }
   ],
   "source": [
    "arry2d.mean()"
   ]
  },
  {
   "cell_type": "code",
   "execution_count": 29,
   "id": "500505c3-0634-4c9d-b35b-c9a0f78b82c3",
   "metadata": {},
   "outputs": [
    {
     "data": {
      "text/plain": [
       "np.int64(1)"
      ]
     },
     "execution_count": 29,
     "metadata": {},
     "output_type": "execute_result"
    }
   ],
   "source": [
    "arry2d.min()"
   ]
  },
  {
   "cell_type": "code",
   "execution_count": 30,
   "id": "05e506a7-8ff7-4872-bc07-ec55416f440d",
   "metadata": {},
   "outputs": [
    {
     "data": {
      "text/plain": [
       "np.int64(8)"
      ]
     },
     "execution_count": 30,
     "metadata": {},
     "output_type": "execute_result"
    }
   ],
   "source": [
    "arry2d.max()"
   ]
  },
  {
   "cell_type": "code",
   "execution_count": 31,
   "id": "752bea6f-6658-4442-b895-18cb6f2361c7",
   "metadata": {},
   "outputs": [
    {
     "data": {
      "text/plain": [
       "array([ 6,  8, 10, 12])"
      ]
     },
     "execution_count": 31,
     "metadata": {},
     "output_type": "execute_result"
    }
   ],
   "source": [
    "arry2d.sum(axis=0)"
   ]
  },
  {
   "cell_type": "code",
   "execution_count": 32,
   "id": "bf6fb074-fd15-4bee-8636-f37fc83c03b4",
   "metadata": {},
   "outputs": [
    {
     "data": {
      "text/plain": [
       "array([10, 26])"
      ]
     },
     "execution_count": 32,
     "metadata": {},
     "output_type": "execute_result"
    }
   ],
   "source": [
    "arry2d.sum(axis=1)"
   ]
  },
  {
   "cell_type": "code",
   "execution_count": 33,
   "id": "205b09e2-a0d6-454a-9097-5f88a4f9ce66",
   "metadata": {},
   "outputs": [
    {
     "data": {
      "text/plain": [
       "array([3., 4., 5., 6.])"
      ]
     },
     "execution_count": 33,
     "metadata": {},
     "output_type": "execute_result"
    }
   ],
   "source": [
    "arry2d.mean(axis=0)"
   ]
  },
  {
   "cell_type": "code",
   "execution_count": 34,
   "id": "0c954bba-992c-4950-b013-d71ef1ef9fd8",
   "metadata": {},
   "outputs": [
    {
     "data": {
      "text/plain": [
       "array([2.5, 6.5])"
      ]
     },
     "execution_count": 34,
     "metadata": {},
     "output_type": "execute_result"
    }
   ],
   "source": [
    "arry2d.mean(axis=1)"
   ]
  },
  {
   "cell_type": "code",
   "execution_count": 35,
   "id": "f3db56c8-0ab9-473e-9301-47d4e6c0324e",
   "metadata": {},
   "outputs": [
    {
     "data": {
      "text/plain": [
       "np.int64(10)"
      ]
     },
     "execution_count": 35,
     "metadata": {},
     "output_type": "execute_result"
    }
   ],
   "source": [
    "arr1=np.array([10,20,30,40,50])\n",
    "arr1[0]"
   ]
  },
  {
   "cell_type": "code",
   "execution_count": 36,
   "id": "0eca9509-58d5-4627-b68c-638c47ce4714",
   "metadata": {},
   "outputs": [
    {
     "data": {
      "text/plain": [
       "np.int64(50)"
      ]
     },
     "execution_count": 36,
     "metadata": {},
     "output_type": "execute_result"
    }
   ],
   "source": [
    "arr1[4]"
   ]
  },
  {
   "cell_type": "code",
   "execution_count": 37,
   "id": "23a80c22-d2c9-40ad-aed7-e47dc7e48d31",
   "metadata": {},
   "outputs": [
    {
     "data": {
      "text/plain": [
       "array([20, 30])"
      ]
     },
     "execution_count": 37,
     "metadata": {},
     "output_type": "execute_result"
    }
   ],
   "source": [
    "arr1[1:3]"
   ]
  },
  {
   "cell_type": "code",
   "execution_count": 40,
   "id": "b547b9b9-7276-447c-b340-dc75bd40d1a0",
   "metadata": {},
   "outputs": [
    {
     "data": {
      "text/plain": [
       "array([30, 40])"
      ]
     },
     "execution_count": 40,
     "metadata": {},
     "output_type": "execute_result"
    }
   ],
   "source": [
    "arr1[-3:-1]"
   ]
  },
  {
   "cell_type": "code",
   "execution_count": 42,
   "id": "6a33da57-ec25-4907-b3b8-fe2504d075dc",
   "metadata": {},
   "outputs": [],
   "source": [
    "arr12d=np.array([[1,2,3,4],[5,6,7,8],[9,10,11,12]])"
   ]
  },
  {
   "cell_type": "code",
   "execution_count": 43,
   "id": "29a5e398-a832-4ba7-8aaa-c202126d1e40",
   "metadata": {},
   "outputs": [
    {
     "data": {
      "text/plain": [
       "array([[ 1,  2,  3,  4],\n",
       "       [ 5,  6,  7,  8],\n",
       "       [ 9, 10, 11, 12]])"
      ]
     },
     "execution_count": 43,
     "metadata": {},
     "output_type": "execute_result"
    }
   ],
   "source": [
    "arr12d"
   ]
  },
  {
   "cell_type": "code",
   "execution_count": 49,
   "id": "399fd84a-a0f7-4020-843e-6adab4888f6c",
   "metadata": {},
   "outputs": [
    {
     "data": {
      "text/plain": [
       "np.int64(4)"
      ]
     },
     "execution_count": 49,
     "metadata": {},
     "output_type": "execute_result"
    }
   ],
   "source": [
    "arr12d[0,3]"
   ]
  },
  {
   "cell_type": "code",
   "execution_count": 50,
   "id": "87fc9b81-dda0-4991-8dba-d025f1a99be9",
   "metadata": {},
   "outputs": [
    {
     "data": {
      "text/plain": [
       "np.int64(8)"
      ]
     },
     "execution_count": 50,
     "metadata": {},
     "output_type": "execute_result"
    }
   ],
   "source": [
    "arr12d[1,3]"
   ]
  },
  {
   "cell_type": "code",
   "execution_count": 51,
   "id": "46a0fefd-6cef-4144-ae56-66c73bd6f2a6",
   "metadata": {},
   "outputs": [
    {
     "data": {
      "text/plain": [
       "np.int64(4)"
      ]
     },
     "execution_count": 51,
     "metadata": {},
     "output_type": "execute_result"
    }
   ],
   "source": [
    "arr12d[-3,-1]"
   ]
  },
  {
   "cell_type": "code",
   "execution_count": 53,
   "id": "56b9bb49-b297-433c-8d10-dd3c4e916882",
   "metadata": {},
   "outputs": [
    {
     "data": {
      "text/plain": [
       "array([[1, 2, 3, 4],\n",
       "       [5, 6, 7, 8]])"
      ]
     },
     "execution_count": 53,
     "metadata": {},
     "output_type": "execute_result"
    }
   ],
   "source": [
    "arr12d[:2]"
   ]
  },
  {
   "cell_type": "code",
   "execution_count": 54,
   "id": "74525fb2-f84c-46b7-9dc2-e1b05f6498bf",
   "metadata": {},
   "outputs": [
    {
     "data": {
      "text/plain": [
       "array([[ 5,  6,  7,  8],\n",
       "       [ 9, 10, 11, 12]])"
      ]
     },
     "execution_count": 54,
     "metadata": {},
     "output_type": "execute_result"
    }
   ],
   "source": [
    "arr12d[1:]"
   ]
  },
  {
   "cell_type": "code",
   "execution_count": 55,
   "id": "f6240f85-e284-4186-9016-ac4fa6b28c4c",
   "metadata": {},
   "outputs": [
    {
     "data": {
      "text/plain": [
       "array([[ 1,  2,  3,  4],\n",
       "       [ 5,  6,  7,  8],\n",
       "       [ 9, 10, 11, 12]])"
      ]
     },
     "execution_count": 55,
     "metadata": {},
     "output_type": "execute_result"
    }
   ],
   "source": [
    "arr12d[0:]"
   ]
  },
  {
   "cell_type": "code",
   "execution_count": 56,
   "id": "996a7a59-d6b2-434c-88c5-48923946f2a3",
   "metadata": {},
   "outputs": [
    {
     "data": {
      "text/plain": [
       "array([5, 6, 7, 8])"
      ]
     },
     "execution_count": 56,
     "metadata": {},
     "output_type": "execute_result"
    }
   ],
   "source": [
    "arr12d[1,:]"
   ]
  },
  {
   "cell_type": "code",
   "execution_count": 57,
   "id": "1fe00b52-ba7b-46b6-936a-2bca0d311943",
   "metadata": {},
   "outputs": [
    {
     "data": {
      "text/plain": [
       "array([[ 9, 10, 11, 12]])"
      ]
     },
     "execution_count": 57,
     "metadata": {},
     "output_type": "execute_result"
    }
   ],
   "source": [
    "arr12d[2:]"
   ]
  },
  {
   "cell_type": "code",
   "execution_count": 58,
   "id": "18cccdd5-4a22-4fed-98f2-f36d24609ff4",
   "metadata": {},
   "outputs": [
    {
     "data": {
      "text/plain": [
       "array([ 2,  6, 10])"
      ]
     },
     "execution_count": 58,
     "metadata": {},
     "output_type": "execute_result"
    }
   ],
   "source": [
    "arr12d[:,1]"
   ]
  },
  {
   "cell_type": "code",
   "execution_count": 59,
   "id": "24dfb5f0-51be-4cf2-9875-79b0b74de3a0",
   "metadata": {},
   "outputs": [
    {
     "data": {
      "text/plain": [
       "array([ 4,  8, 12])"
      ]
     },
     "execution_count": 59,
     "metadata": {},
     "output_type": "execute_result"
    }
   ],
   "source": [
    "arr12d[:,3]"
   ]
  },
  {
   "cell_type": "code",
   "execution_count": 64,
   "id": "6ddc126b-47d1-4e0f-84a4-310d675bc60e",
   "metadata": {},
   "outputs": [
    {
     "data": {
      "text/plain": [
       "array([False, False, False,  True,  True,  True,  True])"
      ]
     },
     "execution_count": 64,
     "metadata": {},
     "output_type": "execute_result"
    }
   ],
   "source": [
    "arry=np.array([1,2,3,4,5,7,8])\n",
    "mark=arry>3\n",
    "mark"
   ]
  },
  {
   "cell_type": "code",
   "execution_count": 65,
   "id": "75a07e37-33cd-4263-998b-3cf4495d88a8",
   "metadata": {},
   "outputs": [
    {
     "data": {
      "text/plain": [
       "array([4, 5, 7, 8])"
      ]
     },
     "execution_count": 65,
     "metadata": {},
     "output_type": "execute_result"
    }
   ],
   "source": [
    "arry[mark]"
   ]
  },
  {
   "cell_type": "code",
   "execution_count": 67,
   "id": "3cd26a68-d2f7-4865-bbac-61a9e9dfadf2",
   "metadata": {},
   "outputs": [
    {
     "data": {
      "text/plain": [
       "array([2, 4, 8])"
      ]
     },
     "execution_count": 67,
     "metadata": {},
     "output_type": "execute_result"
    }
   ],
   "source": [
    "arry[arry % 2==0]"
   ]
  },
  {
   "cell_type": "code",
   "execution_count": 70,
   "id": "a0aba7e7-9cb7-45a5-a05f-c1c089305963",
   "metadata": {},
   "outputs": [
    {
     "data": {
      "text/plain": [
       "array([3])"
      ]
     },
     "execution_count": 70,
     "metadata": {},
     "output_type": "execute_result"
    }
   ],
   "source": [
    "arry[arry % 3==0]"
   ]
  },
  {
   "cell_type": "code",
   "execution_count": 72,
   "id": "5847c856-2ba8-48fa-8bef-6e6244b8aea7",
   "metadata": {},
   "outputs": [
    {
     "data": {
      "text/plain": [
       "array([ 6,  7,  8,  9, 10])"
      ]
     },
     "execution_count": 72,
     "metadata": {},
     "output_type": "execute_result"
    }
   ],
   "source": [
    "arr=np.array([1,2,3,4,5])\n",
    "arr+5"
   ]
  },
  {
   "cell_type": "code",
   "execution_count": 73,
   "id": "93bddf2b-f67e-48eb-84cc-9a308497aacb",
   "metadata": {},
   "outputs": [
    {
     "data": {
      "text/plain": [
       "array([ 3,  6,  9, 12, 15])"
      ]
     },
     "execution_count": 73,
     "metadata": {},
     "output_type": "execute_result"
    }
   ],
   "source": [
    "arr*3"
   ]
  },
  {
   "cell_type": "code",
   "execution_count": 74,
   "id": "6223bc04-7a58-49f2-b87c-d85fd5f04eb6",
   "metadata": {},
   "outputs": [
    {
     "data": {
      "text/plain": [
       "array([0, 1, 2, 3, 4])"
      ]
     },
     "execution_count": 74,
     "metadata": {},
     "output_type": "execute_result"
    }
   ],
   "source": [
    "arr-1"
   ]
  },
  {
   "cell_type": "code",
   "execution_count": 75,
   "id": "0deba459-63ec-43ed-872d-751abc31d4e9",
   "metadata": {},
   "outputs": [
    {
     "data": {
      "text/plain": [
       "array([ 1,  4,  9, 16, 25])"
      ]
     },
     "execution_count": 75,
     "metadata": {},
     "output_type": "execute_result"
    }
   ],
   "source": [
    "arr**2"
   ]
  },
  {
   "cell_type": "code",
   "execution_count": 76,
   "id": "79e12bcd-5083-488c-9a7b-b0c0c5569600",
   "metadata": {},
   "outputs": [
    {
     "data": {
      "text/plain": [
       "array([  1,   8,  27,  64, 125])"
      ]
     },
     "execution_count": 76,
     "metadata": {},
     "output_type": "execute_result"
    }
   ],
   "source": [
    "arr**3"
   ]
  },
  {
   "cell_type": "code",
   "execution_count": 77,
   "id": "f1dd03a5-ec1b-4541-96ab-8717741a0abe",
   "metadata": {},
   "outputs": [],
   "source": [
    "b=2\n"
   ]
  },
  {
   "cell_type": "code",
   "execution_count": 78,
   "id": "c355a897-6b20-4b28-8a13-38c01a8173af",
   "metadata": {},
   "outputs": [
    {
     "data": {
      "text/plain": [
       "array([3, 4, 5, 6, 7])"
      ]
     },
     "execution_count": 78,
     "metadata": {},
     "output_type": "execute_result"
    }
   ],
   "source": [
    "arr+b"
   ]
  },
  {
   "cell_type": "code",
   "execution_count": 81,
   "id": "b554fdfe-49b3-4ebf-ad5d-8db9043681a9",
   "metadata": {},
   "outputs": [],
   "source": [
    "arr1=np.array([1,2,3,2])\n",
    "arr2=np.array([[1,2,3,4],[2,3,4,5]])"
   ]
  },
  {
   "cell_type": "code",
   "execution_count": 82,
   "id": "2650015c-d412-48c1-930f-d1b6f5582ac3",
   "metadata": {},
   "outputs": [
    {
     "data": {
      "text/plain": [
       "array([[ 1,  4,  9,  8],\n",
       "       [ 2,  6, 12, 10]])"
      ]
     },
     "execution_count": 82,
     "metadata": {},
     "output_type": "execute_result"
    }
   ],
   "source": [
    "arr1*arr2"
   ]
  },
  {
   "cell_type": "code",
   "execution_count": 83,
   "id": "63f78c51-a588-4f37-9be0-fcf1ec72061c",
   "metadata": {},
   "outputs": [
    {
     "data": {
      "text/plain": [
       "(4,)"
      ]
     },
     "execution_count": 83,
     "metadata": {},
     "output_type": "execute_result"
    }
   ],
   "source": [
    "arr1.shape"
   ]
  },
  {
   "cell_type": "code",
   "execution_count": 84,
   "id": "9169e233-76ab-4948-a902-d3d7492420f5",
   "metadata": {},
   "outputs": [
    {
     "data": {
      "text/plain": [
       "(2, 4)"
      ]
     },
     "execution_count": 84,
     "metadata": {},
     "output_type": "execute_result"
    }
   ],
   "source": [
    "arr2.shape"
   ]
  },
  {
   "cell_type": "code",
   "execution_count": 86,
   "id": "9a34b246-960c-4004-8125-136fdc229161",
   "metadata": {},
   "outputs": [
    {
     "data": {
      "text/plain": [
       "array([[2, 4, 6, 6],\n",
       "       [3, 5, 7, 7]])"
      ]
     },
     "execution_count": 86,
     "metadata": {},
     "output_type": "execute_result"
    }
   ],
   "source": [
    "arr1+arr2"
   ]
  },
  {
   "cell_type": "code",
   "execution_count": 87,
   "id": "d9397b6b-eb12-44cc-a494-043d82ed2c9e",
   "metadata": {},
   "outputs": [],
   "source": [
    "arr1=np.arange(12)"
   ]
  },
  {
   "cell_type": "code",
   "execution_count": 88,
   "id": "7e32f06f-9027-4546-972d-276dafc3e73f",
   "metadata": {},
   "outputs": [
    {
     "data": {
      "text/plain": [
       "array([ 0,  1,  2,  3,  4,  5,  6,  7,  8,  9, 10, 11])"
      ]
     },
     "execution_count": 88,
     "metadata": {},
     "output_type": "execute_result"
    }
   ],
   "source": [
    "arr1"
   ]
  },
  {
   "cell_type": "code",
   "execution_count": 89,
   "id": "ce0e7b64-0739-4b59-b9ef-291a26d020ed",
   "metadata": {},
   "outputs": [],
   "source": [
    "arr2d=arr1.shape"
   ]
  },
  {
   "cell_type": "code",
   "execution_count": 91,
   "id": "570f05fc-ff21-4fa0-9a14-ac674fab00e9",
   "metadata": {},
   "outputs": [
    {
     "data": {
      "text/plain": [
       "(12,)"
      ]
     },
     "execution_count": 91,
     "metadata": {},
     "output_type": "execute_result"
    }
   ],
   "source": [
    "arr2d"
   ]
  },
  {
   "cell_type": "code",
   "execution_count": 92,
   "id": "a7f1bf33-d99f-4822-a825-6f94a573f55e",
   "metadata": {},
   "outputs": [],
   "source": [
    "arr2d=arr1.reshape(4,3)"
   ]
  },
  {
   "cell_type": "code",
   "execution_count": 93,
   "id": "89ae94a5-fbd7-4a61-940e-14d176539321",
   "metadata": {},
   "outputs": [
    {
     "data": {
      "text/plain": [
       "array([[ 0,  1,  2],\n",
       "       [ 3,  4,  5],\n",
       "       [ 6,  7,  8],\n",
       "       [ 9, 10, 11]])"
      ]
     },
     "execution_count": 93,
     "metadata": {},
     "output_type": "execute_result"
    }
   ],
   "source": [
    "arr2d"
   ]
  },
  {
   "cell_type": "code",
   "execution_count": 94,
   "id": "853dc091-c5d6-429d-8629-8cd8c974d65d",
   "metadata": {},
   "outputs": [
    {
     "data": {
      "text/plain": [
       "array([[ 0,  3,  6,  9],\n",
       "       [ 1,  4,  7, 10],\n",
       "       [ 2,  5,  8, 11]])"
      ]
     },
     "execution_count": 94,
     "metadata": {},
     "output_type": "execute_result"
    }
   ],
   "source": [
    "arr2d.T"
   ]
  },
  {
   "cell_type": "code",
   "execution_count": 95,
   "id": "bcc34513-dcaf-40cb-99ee-c49dcbf1fa8d",
   "metadata": {},
   "outputs": [
    {
     "data": {
      "text/plain": [
       "(4, 3)"
      ]
     },
     "execution_count": 95,
     "metadata": {},
     "output_type": "execute_result"
    }
   ],
   "source": [
    "arr2d.shape"
   ]
  },
  {
   "cell_type": "code",
   "execution_count": 97,
   "id": "9f7ce93e-556f-41d3-a086-0143fc71bfed",
   "metadata": {},
   "outputs": [
    {
     "data": {
      "text/plain": [
       "array([ 0,  1,  2,  3,  4,  5,  6,  7,  8,  9, 10, 11])"
      ]
     },
     "execution_count": 97,
     "metadata": {},
     "output_type": "execute_result"
    }
   ],
   "source": [
    "arr2d.flatten()"
   ]
  },
  {
   "cell_type": "code",
   "execution_count": 98,
   "id": "7bc691c2-fe24-40eb-89cb-d25eadfd89fa",
   "metadata": {},
   "outputs": [
    {
     "data": {
      "text/plain": [
       "array([[19, 22],\n",
       "       [43, 50]])"
      ]
     },
     "execution_count": 98,
     "metadata": {},
     "output_type": "execute_result"
    }
   ],
   "source": [
    "A = np.array([[1,2],[3,4]])\n",
    "B = np.array([[5,6],[7,8]])\n",
    "np.dot(A,B)"
   ]
  },
  {
   "cell_type": "code",
   "execution_count": 99,
   "id": "4f559e55-5035-47e2-b0d8-286245fcbac5",
   "metadata": {},
   "outputs": [
    {
     "data": {
      "text/plain": [
       "array([[-2. ,  1. ],\n",
       "       [ 1.5, -0.5]])"
      ]
     },
     "execution_count": 99,
     "metadata": {},
     "output_type": "execute_result"
    }
   ],
   "source": [
    "np.linalg.inv(A)"
   ]
  },
  {
   "cell_type": "code",
   "execution_count": 100,
   "id": "22448df9-d624-4835-a3f0-a9f60d9d43d3",
   "metadata": {},
   "outputs": [
    {
     "data": {
      "text/plain": [
       "np.float64(-2.0000000000000004)"
      ]
     },
     "execution_count": 100,
     "metadata": {},
     "output_type": "execute_result"
    }
   ],
   "source": [
    "np.linalg.det(A)"
   ]
  },
  {
   "cell_type": "code",
   "execution_count": 101,
   "id": "41e1a5c6-7a3b-4994-b548-f1ba1ac91ee5",
   "metadata": {},
   "outputs": [
    {
     "data": {
      "text/plain": [
       "EigResult(eigenvalues=array([-0.37228132,  5.37228132]), eigenvectors=array([[-0.82456484, -0.41597356],\n",
       "       [ 0.56576746, -0.90937671]]))"
      ]
     },
     "execution_count": 101,
     "metadata": {},
     "output_type": "execute_result"
    }
   ],
   "source": [
    "np.linalg.eig(A)  "
   ]
  },
  {
   "cell_type": "code",
   "execution_count": 103,
   "id": "83865272-ae2f-42e8-961e-7c708435e40c",
   "metadata": {},
   "outputs": [],
   "source": [
    "np.random.seed(42)\n",
    "rand_arr=np.random.rand(3,3)"
   ]
  },
  {
   "cell_type": "code",
   "execution_count": 104,
   "id": "c5968147-95d2-4642-879f-36b589042bc2",
   "metadata": {},
   "outputs": [
    {
     "data": {
      "text/plain": [
       "array([[0.37454012, 0.95071431, 0.73199394],\n",
       "       [0.59865848, 0.15601864, 0.15599452],\n",
       "       [0.05808361, 0.86617615, 0.60111501]])"
      ]
     },
     "execution_count": 104,
     "metadata": {},
     "output_type": "execute_result"
    }
   ],
   "source": [
    "rand_arr"
   ]
  },
  {
   "cell_type": "code",
   "execution_count": 105,
   "id": "07f59dde-94dd-4364-b4eb-e3cb3b3f5b08",
   "metadata": {},
   "outputs": [],
   "source": [
    "rand_int = np.random.randint(0,10,size=(2,5))"
   ]
  },
  {
   "cell_type": "code",
   "execution_count": 106,
   "id": "9f05a6eb-f88f-457f-b961-714537cddcfd",
   "metadata": {},
   "outputs": [
    {
     "data": {
      "text/plain": [
       "array([[7, 2, 5, 4, 1],\n",
       "       [7, 5, 1, 4, 0]], dtype=int32)"
      ]
     },
     "execution_count": 106,
     "metadata": {},
     "output_type": "execute_result"
    }
   ],
   "source": [
    "rand_int"
   ]
  },
  {
   "cell_type": "code",
   "execution_count": null,
   "id": "9981a15a-c0fa-4636-9e18-c8fcb923a195",
   "metadata": {},
   "outputs": [],
   "source": []
  },
  {
   "cell_type": "markdown",
   "id": "3c433a2f-a097-4f56-9763-1f8568d31134",
   "metadata": {},
   "source": [
    "✅ Suggested Mini Exercises (Practice)"
   ]
  },
  {
   "cell_type": "code",
   "execution_count": 108,
   "id": "21854a4b-e78f-4365-a7f8-4332da6dc193",
   "metadata": {},
   "outputs": [],
   "source": [
    "arr2d=np.array([[1,2,3,4],[5,6,7,8]])"
   ]
  },
  {
   "cell_type": "code",
   "execution_count": 109,
   "id": "60751a0a-c5ab-4cd6-b539-56cf9fda2327",
   "metadata": {},
   "outputs": [
    {
     "data": {
      "text/plain": [
       "array([ 6,  8, 10, 12])"
      ]
     },
     "execution_count": 109,
     "metadata": {},
     "output_type": "execute_result"
    }
   ],
   "source": [
    "arr2d.sum(axis=0)"
   ]
  },
  {
   "cell_type": "code",
   "execution_count": 110,
   "id": "993cb337-b436-49a7-ac23-6036892bac83",
   "metadata": {},
   "outputs": [
    {
     "data": {
      "text/plain": [
       "array([10, 26])"
      ]
     },
     "execution_count": 110,
     "metadata": {},
     "output_type": "execute_result"
    }
   ],
   "source": [
    "arr2d.sum(axis=1)"
   ]
  },
  {
   "cell_type": "code",
   "execution_count": 112,
   "id": "36947cb2-10f2-4184-98eb-023b1e9187c4",
   "metadata": {},
   "outputs": [
    {
     "data": {
      "text/plain": [
       "array([5, 6, 7, 8])"
      ]
     },
     "execution_count": 112,
     "metadata": {},
     "output_type": "execute_result"
    }
   ],
   "source": [
    "arr2d[1,:]"
   ]
  },
  {
   "cell_type": "code",
   "execution_count": 113,
   "id": "e8381032-38a0-498e-ad65-4a41fdc955b6",
   "metadata": {},
   "outputs": [
    {
     "data": {
      "text/plain": [
       "array([2, 6])"
      ]
     },
     "execution_count": 113,
     "metadata": {},
     "output_type": "execute_result"
    }
   ],
   "source": [
    "arr2d[:,1]"
   ]
  },
  {
   "cell_type": "code",
   "execution_count": 114,
   "id": "98e93b0a-c020-4f59-aabc-402ea52958ee",
   "metadata": {},
   "outputs": [],
   "source": [
    "mask=arr2d>5\n"
   ]
  },
  {
   "cell_type": "code",
   "execution_count": 115,
   "id": "063eafee-61e0-42fb-8739-4dc4a7bc1136",
   "metadata": {},
   "outputs": [
    {
     "data": {
      "text/plain": [
       "array([6, 7, 8])"
      ]
     },
     "execution_count": 115,
     "metadata": {},
     "output_type": "execute_result"
    }
   ],
   "source": [
    "arr2d[mask]"
   ]
  },
  {
   "cell_type": "code",
   "execution_count": 117,
   "id": "92dad52f-32bf-422e-af7a-8436d8b67c43",
   "metadata": {},
   "outputs": [
    {
     "data": {
      "text/plain": [
       "array([2, 4, 6, 8])"
      ]
     },
     "execution_count": 117,
     "metadata": {},
     "output_type": "execute_result"
    }
   ],
   "source": [
    "arr2d[arry2d%2==0]"
   ]
  },
  {
   "cell_type": "code",
   "execution_count": 118,
   "id": "d8b08a92-3335-4ddd-9a08-b70ace4c96c5",
   "metadata": {},
   "outputs": [
    {
     "data": {
      "text/plain": [
       "array([[ 5, 10, 15, 20],\n",
       "       [25, 30, 35, 40]])"
      ]
     },
     "execution_count": 118,
     "metadata": {},
     "output_type": "execute_result"
    }
   ],
   "source": [
    "arr2d*5"
   ]
  },
  {
   "cell_type": "code",
   "execution_count": 119,
   "id": "8da079f7-5484-4771-99b0-9d0475b42615",
   "metadata": {},
   "outputs": [
    {
     "data": {
      "text/plain": [
       "array([[ 1,  4,  9, 16],\n",
       "       [25, 36, 49, 64]])"
      ]
     },
     "execution_count": 119,
     "metadata": {},
     "output_type": "execute_result"
    }
   ],
   "source": [
    "arr2d**2"
   ]
  },
  {
   "cell_type": "code",
   "execution_count": 120,
   "id": "32fafeab-60eb-4da8-949f-aea62ef1c29c",
   "metadata": {},
   "outputs": [
    {
     "data": {
      "text/plain": [
       "array([[ 3,  4,  5,  6],\n",
       "       [ 7,  8,  9, 10]])"
      ]
     },
     "execution_count": 120,
     "metadata": {},
     "output_type": "execute_result"
    }
   ],
   "source": [
    "arr2d+2"
   ]
  },
  {
   "cell_type": "code",
   "execution_count": 121,
   "id": "f48bba77-ca21-4375-8f56-e6db365a75e8",
   "metadata": {},
   "outputs": [
    {
     "data": {
      "text/plain": [
       "(2, 4)"
      ]
     },
     "execution_count": 121,
     "metadata": {},
     "output_type": "execute_result"
    }
   ],
   "source": [
    "arr2d.shape"
   ]
  },
  {
   "cell_type": "code",
   "execution_count": 124,
   "id": "ae2d51aa-608c-4fe7-8432-cfcfb01fefdb",
   "metadata": {},
   "outputs": [],
   "source": [
    "a=arr2d.reshape(4,2)"
   ]
  },
  {
   "cell_type": "code",
   "execution_count": 125,
   "id": "b4685806-444a-4861-b2d3-2c12d192a485",
   "metadata": {},
   "outputs": [
    {
     "data": {
      "text/plain": [
       "array([[1, 2],\n",
       "       [3, 4],\n",
       "       [5, 6],\n",
       "       [7, 8]])"
      ]
     },
     "execution_count": 125,
     "metadata": {},
     "output_type": "execute_result"
    }
   ],
   "source": [
    "a"
   ]
  },
  {
   "cell_type": "code",
   "execution_count": 126,
   "id": "7c2dea4a-ce2f-487f-b162-598e5c35013f",
   "metadata": {},
   "outputs": [
    {
     "data": {
      "text/plain": [
       "array([[1, 3, 5, 7],\n",
       "       [2, 4, 6, 8]])"
      ]
     },
     "execution_count": 126,
     "metadata": {},
     "output_type": "execute_result"
    }
   ],
   "source": [
    "a.T"
   ]
  },
  {
   "cell_type": "code",
   "execution_count": 127,
   "id": "260cc9ee-294b-4472-95f5-0268efdb58f9",
   "metadata": {},
   "outputs": [
    {
     "data": {
      "text/plain": [
       "array([1, 2, 3, 4, 5, 6, 7, 8])"
      ]
     },
     "execution_count": 127,
     "metadata": {},
     "output_type": "execute_result"
    }
   ],
   "source": [
    "a.flatten()"
   ]
  },
  {
   "cell_type": "code",
   "execution_count": 128,
   "id": "e62e29f4-dd1a-475f-803b-be22426351fe",
   "metadata": {},
   "outputs": [],
   "source": [
    "a=np.array([[1,2],[8,3],[4,8],[9,0]])\n",
    "b=np.array([[3,8],[2,0],[3,7],[8,0]])"
   ]
  },
  {
   "cell_type": "code",
   "execution_count": 129,
   "id": "60e1e56a-df1c-4f88-9c15-1b55936e39e2",
   "metadata": {},
   "outputs": [
    {
     "data": {
      "text/plain": [
       "array([[ 3, 16],\n",
       "       [16,  0],\n",
       "       [12, 56],\n",
       "       [72,  0]])"
      ]
     },
     "execution_count": 129,
     "metadata": {},
     "output_type": "execute_result"
    }
   ],
   "source": [
    "a*b"
   ]
  },
  {
   "cell_type": "code",
   "execution_count": 132,
   "id": "afe059ab-a903-43b4-8461-62b0eda724c6",
   "metadata": {},
   "outputs": [],
   "source": [
    "a=np.array([[1,2],[8,2]])\n",
    "b=np.array([[4,8],[9,0]])\n",
    "\n",
    "c=np.dot(b,a)\n"
   ]
  },
  {
   "cell_type": "code",
   "execution_count": 133,
   "id": "237a4bfc-59ae-47ed-81f2-a18e6cf4da3f",
   "metadata": {},
   "outputs": [
    {
     "data": {
      "text/plain": [
       "array([[68, 24],\n",
       "       [ 9, 18]])"
      ]
     },
     "execution_count": 133,
     "metadata": {},
     "output_type": "execute_result"
    }
   ],
   "source": [
    "c"
   ]
  },
  {
   "cell_type": "code",
   "execution_count": 134,
   "id": "b043e8b6-29dd-40af-9b76-10c9ee6315f3",
   "metadata": {},
   "outputs": [],
   "source": [
    "rand_arr=np.random.rand(3,3)"
   ]
  },
  {
   "cell_type": "code",
   "execution_count": 137,
   "id": "e6f712b2-904e-4d39-88b4-f6fcf5120245",
   "metadata": {},
   "outputs": [
    {
     "data": {
      "text/plain": [
       "array([[0.30424224, 0.52475643, 0.43194502],\n",
       "       [0.29122914, 0.61185289, 0.13949386],\n",
       "       [0.29214465, 0.36636184, 0.45606998]])"
      ]
     },
     "execution_count": 137,
     "metadata": {},
     "output_type": "execute_result"
    }
   ],
   "source": [
    "rand_arr"
   ]
  },
  {
   "cell_type": "code",
   "execution_count": 140,
   "id": "59cd56c7-6f45-4a44-b5b4-5d22fad573c0",
   "metadata": {},
   "outputs": [
    {
     "data": {
      "text/plain": [
       "<function ndarray.mean>"
      ]
     },
     "execution_count": 140,
     "metadata": {},
     "output_type": "execute_result"
    }
   ],
   "source": [
    "rand_arr.mean"
   ]
  },
  {
   "cell_type": "code",
   "execution_count": 141,
   "id": "d71df36b-2793-412a-a5fb-ee9d086ca60d",
   "metadata": {},
   "outputs": [
    {
     "data": {
      "text/plain": [
       "<function ndarray.min>"
      ]
     },
     "execution_count": 141,
     "metadata": {},
     "output_type": "execute_result"
    }
   ],
   "source": [
    "rand_arr.min"
   ]
  },
  {
   "cell_type": "code",
   "execution_count": 142,
   "id": "f69f8b9d-8672-4f9e-8463-bb1d077eaf2e",
   "metadata": {},
   "outputs": [
    {
     "data": {
      "text/plain": [
       "<function ndarray.max>"
      ]
     },
     "execution_count": 142,
     "metadata": {},
     "output_type": "execute_result"
    }
   ],
   "source": [
    "rand_arr.max"
   ]
  },
  {
   "cell_type": "code",
   "execution_count": 148,
   "id": "0d0cd23f-8570-49f2-a9e4-0abe557a9798",
   "metadata": {},
   "outputs": [],
   "source": [
    "rand_int=np.random.randint(1,10, size=(3,3))"
   ]
  },
  {
   "cell_type": "code",
   "execution_count": 149,
   "id": "2f10f63c-d202-4cab-bfc6-d2900df6e344",
   "metadata": {},
   "outputs": [
    {
     "data": {
      "text/plain": [
       "array([[7, 4, 8],\n",
       "       [5, 7, 3],\n",
       "       [7, 8, 5]], dtype=int32)"
      ]
     },
     "execution_count": 149,
     "metadata": {},
     "output_type": "execute_result"
    }
   ],
   "source": [
    "rand_int"
   ]
  },
  {
   "cell_type": "code",
   "execution_count": 146,
   "id": "f88abf5c-f956-49b3-9ca6-9411c04161a1",
   "metadata": {},
   "outputs": [
    {
     "data": {
      "text/plain": [
       "<function ndarray.mean>"
      ]
     },
     "execution_count": 146,
     "metadata": {},
     "output_type": "execute_result"
    }
   ],
   "source": [
    "rand_int.mean"
   ]
  },
  {
   "cell_type": "code",
   "execution_count": 147,
   "id": "bd1b8f5f-025d-4a87-8ef1-c00c5d6bd40e",
   "metadata": {},
   "outputs": [],
   "source": [
    "np.random.seed(42) "
   ]
  },
  {
   "cell_type": "code",
   "execution_count": null,
   "id": "80a7b19d-cdfc-49ae-95e2-bf129265447c",
   "metadata": {},
   "outputs": [],
   "source": []
  }
 ],
 "metadata": {
  "kernelspec": {
   "display_name": "Python 3 (ipykernel)",
   "language": "python",
   "name": "python3"
  },
  "language_info": {
   "codemirror_mode": {
    "name": "ipython",
    "version": 3
   },
   "file_extension": ".py",
   "mimetype": "text/x-python",
   "name": "python",
   "nbconvert_exporter": "python",
   "pygments_lexer": "ipython3",
   "version": "3.13.5"
  }
 },
 "nbformat": 4,
 "nbformat_minor": 5
}
