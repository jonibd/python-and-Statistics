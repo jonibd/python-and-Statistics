{
 "cells": [
  {
   "cell_type": "markdown",
   "id": "1cc9f049-47e1-421f-82a2-44f6b3dc9e53",
   "metadata": {},
   "source": [
    "1️⃣ List Comprehension"
   ]
  },
  {
   "cell_type": "code",
   "execution_count": 84,
   "id": "d2d89edf-56bd-4bf6-bc77-f3120e918ff1",
   "metadata": {},
   "outputs": [
    {
     "data": {
      "text/plain": [
       "[1, 4, 9, 16, 25]"
      ]
     },
     "execution_count": 84,
     "metadata": {},
     "output_type": "execute_result"
    }
   ],
   "source": [
    "squre = [x**2 for x in range(1,6)]\n",
    "squre"
   ]
  },
  {
   "cell_type": "code",
   "execution_count": 85,
   "id": "c0d9dc86-7166-4b9f-a0a0-4dbc6bce49fa",
   "metadata": {},
   "outputs": [
    {
     "data": {
      "text/plain": [
       "[1, 4, 9, 16, 25]"
      ]
     },
     "execution_count": 85,
     "metadata": {},
     "output_type": "execute_result"
    }
   ],
   "source": [
    "squre = [x**2 for x in range(1,6)]\n",
    "squre"
   ]
  },
  {
   "cell_type": "code",
   "execution_count": 86,
   "id": "d8008a0d-ac6c-4bbd-8332-14ff8d44d254",
   "metadata": {},
   "outputs": [
    {
     "data": {
      "text/plain": [
       "[1, 8, 27, 64, 125]"
      ]
     },
     "execution_count": 86,
     "metadata": {},
     "output_type": "execute_result"
    }
   ],
   "source": [
    "quebe=[x**3 for x in range(1,6)]\n",
    "quebe"
   ]
  },
  {
   "cell_type": "code",
   "execution_count": 108,
   "id": "0ec55984-068a-4b84-a69e-d578186a44f6",
   "metadata": {},
   "outputs": [
    {
     "data": {
      "text/plain": [
       "[4, 4, 16, 100]"
      ]
     },
     "execution_count": 108,
     "metadata": {},
     "output_type": "execute_result"
    }
   ],
   "source": [
    "num1=[1,2,3,2,4,89,29,10]\n",
    "squre = [x**2 for x in num1 if x%2==0]\n",
    "squre"
   ]
  },
  {
   "cell_type": "code",
   "execution_count": 109,
   "id": "2edb89fa-e3e3-4217-9fb6-5ff86bff9ccb",
   "metadata": {},
   "outputs": [
    {
     "data": {
      "text/plain": [
       "[361, 1225, 8281]"
      ]
     },
     "execution_count": 109,
     "metadata": {},
     "output_type": "execute_result"
    }
   ],
   "source": [
    "num2=[20,10,24,22,19,35,91]\n",
    "squre= [x**2 for x in num2 if x%2!=0]\n",
    "squre"
   ]
  },
  {
   "cell_type": "markdown",
   "id": "2ff604cb-df67-48dd-80e4-d298625c3a6e",
   "metadata": {},
   "source": [
    "1️⃣Dictionary Comprehension"
   ]
  },
  {
   "cell_type": "code",
   "execution_count": 89,
   "id": "a45d1a56-9247-4718-ad58-af62d522b1c2",
   "metadata": {},
   "outputs": [],
   "source": [
    "squre_dic={x:x**2 for x in range(1,6)}"
   ]
  },
  {
   "cell_type": "code",
   "execution_count": 90,
   "id": "77e2e078-9ce1-4633-8507-b10598fda24d",
   "metadata": {},
   "outputs": [
    {
     "data": {
      "text/plain": [
       "{1: 1, 2: 4, 3: 9, 4: 16, 5: 25}"
      ]
     },
     "execution_count": 90,
     "metadata": {},
     "output_type": "execute_result"
    }
   ],
   "source": [
    "squre_dic"
   ]
  },
  {
   "cell_type": "code",
   "execution_count": 91,
   "id": "2354f758-b143-4f43-916c-cec46e0ebd59",
   "metadata": {},
   "outputs": [
    {
     "data": {
      "text/plain": [
       "{2: 8, 4: 64}"
      ]
     },
     "execution_count": 91,
     "metadata": {},
     "output_type": "execute_result"
    }
   ],
   "source": [
    "dic={x:x**3 for x in range(1,6) if x%2==0}\n",
    "dic"
   ]
  },
  {
   "cell_type": "markdown",
   "id": "54d75b13-8597-4de6-a49b-8552b26d0367",
   "metadata": {},
   "source": [
    "2️⃣ Functions – args, kwargs, multiple return"
   ]
  },
  {
   "cell_type": "code",
   "execution_count": 92,
   "id": "72f755b6-3461-442a-8e7c-643148233001",
   "metadata": {},
   "outputs": [],
   "source": [
    "def function_name(parameters):\n",
    "    #code\n",
    "    return result"
   ]
  },
  {
   "cell_type": "code",
   "execution_count": 93,
   "id": "eec1b9b3-d73b-4f67-ba8a-9434d3963468",
   "metadata": {},
   "outputs": [
    {
     "data": {
      "text/plain": [
       "'Hello Jonny!'"
      ]
     },
     "execution_count": 93,
     "metadata": {},
     "output_type": "execute_result"
    }
   ],
   "source": [
    "def greet(name):\n",
    "    return f\"Hello {name}!\"\n",
    "greet(\"Jonny\")\n"
   ]
  },
  {
   "cell_type": "code",
   "execution_count": 94,
   "id": "9914cfa3-7126-452e-833d-7f3d9479140f",
   "metadata": {},
   "outputs": [
    {
     "data": {
      "text/plain": [
       "('jony', 10, ['kop'], ('a',))"
      ]
     },
     "execution_count": 94,
     "metadata": {},
     "output_type": "execute_result"
    }
   ],
   "source": [
    "def c_name(*name):\n",
    "    return name\n",
    "c_name(\"jony\",10,[\"kop\"],('a',))"
   ]
  },
  {
   "cell_type": "code",
   "execution_count": 95,
   "id": "90cd1df7-f82b-4644-bcbe-d775e5eb2f28",
   "metadata": {},
   "outputs": [
    {
     "name": "stdout",
     "output_type": "stream",
     "text": [
      "(12, 23, 12, 43, 4)\n"
     ]
    },
    {
     "data": {
      "text/plain": [
       "94"
      ]
     },
     "execution_count": 95,
     "metadata": {},
     "output_type": "execute_result"
    }
   ],
   "source": [
    "def add_number(*num):\n",
    "    print(num)\n",
    "    return sum(num)\n",
    "add_number(12,23,12,43,4)"
   ]
  },
  {
   "cell_type": "code",
   "execution_count": 96,
   "id": "5b2f051a-0145-4d3f-8eb5-c2f4ac713bfe",
   "metadata": {},
   "outputs": [
    {
     "name": "stdout",
     "output_type": "stream",
     "text": [
      "Hello Jony\n",
      "Hello Rahim\n",
      "Hello Karim\n"
     ]
    }
   ],
   "source": [
    "def greet_people(*names):\n",
    "    for name in names:\n",
    "        print(f\"Hello {name}\")\n",
    "greet_people(\"Jony\", \"Rahim\", \"Karim\")"
   ]
  },
  {
   "cell_type": "code",
   "execution_count": 97,
   "id": "3e907dc5-509e-44a0-b322-956dd9d4c8e0",
   "metadata": {},
   "outputs": [],
   "source": [
    "def function_name(**kwargs):\n",
    "    print(kwargs)\n"
   ]
  },
  {
   "cell_type": "code",
   "execution_count": 98,
   "id": "67be299e-df4e-4289-a2b7-e761a3753ff9",
   "metadata": {},
   "outputs": [
    {
     "name": "stdout",
     "output_type": "stream",
     "text": [
      "{'name': 'jony', 'age': 28, 'city': 'Dhaka'}\n"
     ]
    }
   ],
   "source": [
    "def person_info(**kwargs):\n",
    "    print(kwargs)\n",
    "person_info(name=\"jony\",age=28,city=\"Dhaka\")"
   ]
  },
  {
   "cell_type": "code",
   "execution_count": 99,
   "id": "95525ec9-e2c0-4789-863a-91c37dd063c8",
   "metadata": {},
   "outputs": [
    {
     "name": "stdout",
     "output_type": "stream",
     "text": [
      "name:Rahim\n",
      "age:30\n",
      "profession:Teacher\n"
     ]
    }
   ],
   "source": [
    "def person_info(**kwargs):\n",
    "    for kye,value in kwargs.items():\n",
    "        print(f\"{kye}:{value}\")\n",
    "person_info(name=\"Rahim\",age=30,profession=\"Teacher\")"
   ]
  },
  {
   "cell_type": "markdown",
   "id": "3e2d7b94-ddbe-4833-8eb0-360f55a49106",
   "metadata": {},
   "source": []
  },
  {
   "cell_type": "markdown",
   "id": "50a83925-a6d6-455d-8911-630dca389fce",
   "metadata": {},
   "source": [
    "4️⃣ Function Returning Multiple Values"
   ]
  },
  {
   "cell_type": "code",
   "execution_count": 100,
   "id": "95b94bf9-ae61-4a80-ba09-fa60ba82da1c",
   "metadata": {},
   "outputs": [
    {
     "data": {
      "text/plain": [
       "(30, 200)"
      ]
     },
     "execution_count": 100,
     "metadata": {},
     "output_type": "execute_result"
    }
   ],
   "source": [
    "def arithmetic(a,b):\n",
    "    sum_val=a+b\n",
    "    product_val=a*b\n",
    "    return sum_val,product_val\n",
    "\n",
    "arithmetic(20,10)"
   ]
  },
  {
   "cell_type": "code",
   "execution_count": 101,
   "id": "69772465-21aa-4ab3-b8c5-3d1c91d63c53",
   "metadata": {},
   "outputs": [],
   "source": [
    "def ststistic(num):\n",
    "    return min(num),max(num),sum(num)/len(num)\n",
    "number=[10,20,30,40]\n",
    "min_v,max_v, avg_v=ststistic(number)"
   ]
  },
  {
   "cell_type": "code",
   "execution_count": 102,
   "id": "e4b18808-fb2c-477c-8b6c-e73d58cd98c5",
   "metadata": {},
   "outputs": [
    {
     "data": {
      "text/plain": [
       "10"
      ]
     },
     "execution_count": 102,
     "metadata": {},
     "output_type": "execute_result"
    }
   ],
   "source": [
    "min_v\n"
   ]
  },
  {
   "cell_type": "code",
   "execution_count": 103,
   "id": "c9c13236-b1b9-4599-8839-cf1d6e4234e8",
   "metadata": {},
   "outputs": [
    {
     "data": {
      "text/plain": [
       "40"
      ]
     },
     "execution_count": 103,
     "metadata": {},
     "output_type": "execute_result"
    }
   ],
   "source": [
    "max_v\n"
   ]
  },
  {
   "cell_type": "code",
   "execution_count": 104,
   "id": "6c23014e-900d-43a4-9826-32159d89caab",
   "metadata": {},
   "outputs": [
    {
     "data": {
      "text/plain": [
       "25.0"
      ]
     },
     "execution_count": 104,
     "metadata": {},
     "output_type": "execute_result"
    }
   ],
   "source": [
    "avg_v"
   ]
  },
  {
   "cell_type": "code",
   "execution_count": 105,
   "id": "8ce7b514-33eb-4e9b-b7f5-5070fca5502f",
   "metadata": {},
   "outputs": [
    {
     "name": "stdout",
     "output_type": "stream",
     "text": [
      "Student info:  {'name': 'Jony', 'grade': 'A', 'city': 'Dhaka'}\n",
      "Total: 255 Average: 85.0\n"
     ]
    }
   ],
   "source": [
    "def student_report(*grades,**info):\n",
    "    total=sum(grades)\n",
    "    average=total/len(grades)\n",
    "    print(\"Student info: \",info)\n",
    "    return total,average\n",
    "total,average=student_report(80, 90, 85, name=\"Jony\", grade=\"A\", city=\"Dhaka\")\n",
    "print(\"Total:\",total,\"Average:\",average)"
   ]
  },
  {
   "cell_type": "code",
   "execution_count": 112,
   "id": "3a44e800-5803-4e1e-bf27-423f183184d1",
   "metadata": {},
   "outputs": [
    {
     "name": "stdout",
     "output_type": "stream",
     "text": [
      "Hello worlds\n"
     ]
    }
   ],
   "source": [
    "print(\"Hello worlds\")\n"
   ]
  },
  {
   "cell_type": "code",
   "execution_count": null,
   "id": "5b142037-e61d-4a1b-9133-535113baf89f",
   "metadata": {},
   "outputs": [],
   "source": []
  },
  {
   "cell_type": "code",
   "execution_count": null,
   "id": "6eb2d714-5591-4480-85ff-4aab3576fae4",
   "metadata": {},
   "outputs": [],
   "source": []
  }
 ],
 "metadata": {
  "kernelspec": {
   "display_name": "Python 3 (ipykernel)",
   "language": "python",
   "name": "python3"
  },
  "language_info": {
   "codemirror_mode": {
    "name": "ipython",
    "version": 3
   },
   "file_extension": ".py",
   "mimetype": "text/x-python",
   "name": "python",
   "nbconvert_exporter": "python",
   "pygments_lexer": "ipython3",
   "version": "3.13.5"
  }
 },
 "nbformat": 4,
 "nbformat_minor": 5
}
